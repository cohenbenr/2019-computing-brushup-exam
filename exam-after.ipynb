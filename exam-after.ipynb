{
 "cells": [
  {
   "cell_type": "markdown",
   "metadata": {
    "ein.tags": "worksheet-0",
    "slideshow": {
     "slide_type": "-"
    }
   },
   "source": [
    "# Problem 1: Data with R"
   ]
  },
  {
   "cell_type": "code",
   "execution_count": 2,
   "metadata": {
    "autoscroll": false,
    "ein.hycell": false,
    "ein.tags": "worksheet-0",
    "slideshow": {
     "slide_type": "-"
    }
   },
   "outputs": [
    {
     "ename": "ModuleNotFoundError",
     "evalue": "No module named 'rpy2'",
     "output_type": "error",
     "traceback": [
      "\u001b[0;31m---------------------------------------------------------------------------\u001b[0m",
      "\u001b[0;31mModuleNotFoundError\u001b[0m                       Traceback (most recent call last)",
      "\u001b[0;32m<ipython-input-2-6d5bc425f85e>\u001b[0m in \u001b[0;36m<module>\u001b[0;34m\u001b[0m\n\u001b[1;32m      1\u001b[0m \u001b[0;31m#%load_ext rpy2.ipython\u001b[0m\u001b[0;34m\u001b[0m\u001b[0;34m\u001b[0m\u001b[0;34m\u001b[0m\u001b[0m\n\u001b[1;32m      2\u001b[0m \u001b[0;34m\u001b[0m\u001b[0m\n\u001b[0;32m----> 3\u001b[0;31m \u001b[0;32mimport\u001b[0m \u001b[0mrpy2\u001b[0m\u001b[0;34m.\u001b[0m\u001b[0mipython\u001b[0m\u001b[0;34m\u001b[0m\u001b[0;34m\u001b[0m\u001b[0m\n\u001b[0m",
      "\u001b[0;31mModuleNotFoundError\u001b[0m: No module named 'rpy2'"
     ]
    }
   ],
   "source": [
    "%load_ext rpy2.ipython"
   ]
  },
  {
   "cell_type": "code",
   "execution_count": null,
   "metadata": {
    "autoscroll": false,
    "ein.hycell": false,
    "ein.tags": "worksheet-0",
    "slideshow": {
     "slide_type": "-"
    }
   },
   "outputs": [],
   "source": [
    "%%R\n",
    "\n",
    "library(tidyverse)"
   ]
  },
  {
   "cell_type": "code",
   "execution_count": 1,
   "metadata": {
    "autoscroll": false,
    "ein.hycell": false,
    "ein.tags": "worksheet-0",
    "slideshow": {
     "slide_type": "-"
    }
   },
   "outputs": [
    {
     "name": "stderr",
     "output_type": "stream",
     "text": [
      "UsageError: Cell magic `%%R` not found.\n"
     ]
    }
   ],
   "source": [
    "%%R\n",
    "# make sure to get your data in the same folder, next to the notebook file\n",
    "# so that this will run!\n",
    "\n",
    "\n",
    "dat <- read_csv('classification_data.csv')"
   ]
  },
  {
   "cell_type": "code",
   "execution_count": null,
   "metadata": {
    "autoscroll": false,
    "ein.hycell": false,
    "ein.tags": "worksheet-0",
    "slideshow": {
     "slide_type": "-"
    }
   },
   "outputs": [],
   "source": [
    "%%R\n",
    "\n",
    "# Your data consists of an \"X\" column and a \"label\" column\n",
    "# Use ggplot to plot a kernel density estimate of each label (overlayed on the same plot)\n",
    "# hint: Don't forget to make sure the labels are factors!\n",
    "# hint hint: Read the errors carefully! \n",
    "# Read the documentation for parse_factor (readr) if confused!\n",
    "\n",
    "dat$label = factor(dat$label)\n",
    "\n",
    "ggplot(dat,aes(x=X,fill=label,group=label)) + \n",
    "  geom_density(alpha=.5)"
   ]
  },
  {
   "cell_type": "markdown",
   "metadata": {
    "ein.tags": "worksheet-0",
    "slideshow": {
     "slide_type": "-"
    }
   },
   "source": [
    "# Problem 2: Using Classes in Python\n",
    "\n",
    "In this problem, you will use the classes in the following cell. **You do not need to modify the classes or touch the code in the following cell in any way!**"
   ]
  },
  {
   "cell_type": "code",
   "execution_count": 3,
   "metadata": {
    "autoscroll": false,
    "ein.hycell": false,
    "ein.tags": "worksheet-0",
    "slideshow": {
     "slide_type": "-"
    }
   },
   "outputs": [],
   "source": [
    "from abc import ABC, abstractmethod\n",
    "from math import sqrt\n",
    "\n",
    "def smart_zip(a,b):\n",
    "    try:\n",
    "        return zip(a, b)\n",
    "    except TypeError:\n",
    "        return zip([a], [b])\n",
    "\n",
    "class AbstractKNeighbors(ABC):\n",
    "    def __init__(self, K):\n",
    "        self.K = K\n",
    "\n",
    "    def fit(self, X, y):\n",
    "        \"\"\" Train the model!\n",
    "\n",
    "        X should be a list of data points\n",
    "        y should be a list of labels\n",
    "        \"\"\"\n",
    "        self.X = X\n",
    "        self.y = y\n",
    "        return self\n",
    "\n",
    "    @abstractmethod\n",
    "    def _make_prediction(self, labels):\n",
    "        pass\n",
    "\n",
    "    def predict(self, new_x):\n",
    "        \"\"\"Find the nearest K neighbors\n",
    "        \n",
    "        new_x should be a single data point\n",
    "        \"\"\"\n",
    "\n",
    "        dists = [sqrt(sum(([(i-j)**2 for i,j in smart_zip(x,new_x)])))\n",
    "                 for x in self.X]\n",
    "        sorted_neighbors = sorted(enumerate(dists),\n",
    "                                  key=lambda t: t[1])\n",
    "        labels = [self.y[i] for i,_ in sorted_neighbors]\n",
    "        return self._make_prediction(labels)\n",
    "\n",
    "\n",
    "class KNearestNeighbors(AbstractKNeighbors):\n",
    "    def _make_prediction(self, labels):\n",
    "        avg = sum(labels[:self.K])/self.K\n",
    "        return round(avg)\n",
    "\n",
    "class KFurthestNeighbors(AbstractKNeighbors):\n",
    "    def _make_prediction(self, labels):\n",
    "        avg = sum(labels[-self.K:])/self.K\n",
    "        return round(1 - avg)"
   ]
  },
  {
   "cell_type": "code",
   "execution_count": 74,
   "metadata": {
    "autoscroll": false,
    "ein.hycell": false,
    "ein.tags": "worksheet-0",
    "slideshow": {
     "slide_type": "-"
    }
   },
   "outputs": [],
   "source": [
    "from csv import reader\n",
    "\n",
    "with open('classification_data.csv', 'r') as f:\n",
    "    dat = list(reader(f))[1:]\n",
    "    dat = [[float(x), int(label)] for x,label in dat]"
   ]
  },
  {
   "cell_type": "markdown",
   "metadata": {
    "ein.tags": "worksheet-0",
    "slideshow": {
     "slide_type": "-"
    }
   },
   "source": [
    "## Problem 2.1: Shuffling!"
   ]
  },
  {
   "cell_type": "code",
   "execution_count": 75,
   "metadata": {
    "autoscroll": false,
    "ein.hycell": false,
    "ein.tags": "worksheet-0",
    "slideshow": {
     "slide_type": "-"
    }
   },
   "outputs": [],
   "source": [
    "# In your data, \"X\" is a data point that is nothing more than\n",
    "# a single number. \n",
    "# Shuffle your data into a random order (use random.shuffle!)\n",
    "\n",
    "import random\n",
    "\n",
    "random.shuffle(dat)\n"
   ]
  },
  {
   "cell_type": "code",
   "execution_count": 76,
   "metadata": {
    "autoscroll": false,
    "ein.hycell": false,
    "ein.tags": "worksheet-0",
    "slideshow": {
     "slide_type": "-"
    }
   },
   "outputs": [],
   "source": [
    "# If you shuffled your data, this test should pass\n",
    "# (i.e. not throw an error)\n",
    "\n",
    "assert(sum([label for x,label in dat[:50]]) != 0)"
   ]
  },
  {
   "cell_type": "markdown",
   "metadata": {
    "ein.tags": "worksheet-0",
    "slideshow": {
     "slide_type": "-"
    }
   },
   "source": [
    "## Problem 2.2: Splitting!"
   ]
  },
  {
   "cell_type": "code",
   "execution_count": 77,
   "metadata": {
    "autoscroll": false,
    "ein.hycell": false,
    "ein.tags": "worksheet-0",
    "slideshow": {
     "slide_type": "-"
    }
   },
   "outputs": [],
   "source": [
    "# Split your data, which is now a list, into 2 sublists:\n",
    "# \"train\" and \"test\"\n",
    "# The \"train\" group should have 700 elements\n",
    "# The test group should have 300 elements\n",
    "# Each group should have the same format as the original data\n",
    "\n",
    "train = dat[:700]\n",
    "test = dat[700:]\n",
    "\n",
    "#print(len(dat))\n",
    "#print(len(train))\n",
    "#print(len(test))\n",
    "\n",
    "#print(train[699])\n",
    "#print(dat[699])\n",
    "#print(test[0])\n",
    "#print(dat[700])"
   ]
  },
  {
   "cell_type": "code",
   "execution_count": 47,
   "metadata": {
    "autoscroll": false,
    "ein.hycell": false,
    "ein.tags": "worksheet-0",
    "slideshow": {
     "slide_type": "-"
    }
   },
   "outputs": [],
   "source": [
    "# Now you will need to make another split, within the groups!\n",
    "# For each group (\"train\" and \"test\") split the X's from the labels.\n",
    "\n",
    "train_x = [x[0] for x in train]\n",
    "train_labels = [x[1] for x in train]\n",
    "\n",
    "test_x = [x[0] for x in test]\n",
    "test_labels = [x[1] for x in test]"
   ]
  },
  {
   "cell_type": "markdown",
   "metadata": {
    "ein.tags": "worksheet-0",
    "slideshow": {
     "slide_type": "-"
    }
   },
   "source": [
    "## Problem 2.3: Testing models!"
   ]
  },
  {
   "cell_type": "code",
   "execution_count": 78,
   "metadata": {
    "autoscroll": false,
    "ein.hycell": false,
    "ein.tags": "worksheet-0",
    "slideshow": {
     "slide_type": "-"
    }
   },
   "outputs": [
    {
     "name": "stdout",
     "output_type": "stream",
     "text": [
      "300\n",
      "300\n",
      "300\n",
      "300\n",
      "300\n"
     ]
    }
   ],
   "source": [
    "# For each model: \n",
    "# 1. Create an instance the class, with constructor parameters: K=5\n",
    "# 2. Train the instance on the \"train\" groups X's and labels (y's)\n",
    "# 3. Test how well the instance does: \n",
    "#    A. Use the trained instance to predict the label of each \"X\" in the \"test\" group\n",
    "#    B. Use your \"test\" labels to see if the predicted label is equal the true label\n",
    "\n",
    "near = KNearestNeighbors(5)\n",
    "fur = KFurthestNeighbors(5)\n",
    "\n",
    "near.fit(train_x,train_labels)\n",
    "fur.fit(train_x,train_labels)\n",
    "\n",
    "predict_near = [near.predict(i) for i in test_x]\n",
    "type(predict_near)\n",
    "predict_fur = [fur.predict(i) for i in test_x]\n",
    "type(predict_fur)\n",
    "\n",
    "print(len(predict_near))\n",
    "print(len(predict_fur))\n",
    "print(len(test_labels))\n",
    "\n",
    "results_near = []\n",
    "results_fur = []\n",
    "for i in range(len(test_labels)):\n",
    "        results_near.append(predict_near[i] == test_labels[i])\n",
    "        results_fur.append(predict_fur[i] == test_labels[i])\n",
    "\n",
    "print(len(results_near))\n",
    "print(len(results_fur))\n"
   ]
  },
  {
   "cell_type": "code",
   "execution_count": 79,
   "metadata": {
    "autoscroll": false,
    "ein.hycell": false,
    "ein.tags": "worksheet-0",
    "slideshow": {
     "slide_type": "-"
    }
   },
   "outputs": [
    {
     "name": "stdout",
     "output_type": "stream",
     "text": [
      "0.4766666666666667\n",
      "0.4766666666666667\n"
     ]
    }
   ],
   "source": [
    "# Compare the two classes of models!\n",
    "\n",
    "print(sum(results_near) / len(results_near))\n",
    "print(sum(results_fur) / len(results_fur))"
   ]
  }
 ],
 "metadata": {
  "kernelspec": {
   "display_name": "Python 3",
   "language": "python",
   "name": "python3"
  },
  "language_info": {
   "codemirror_mode": {
    "name": "ipython",
    "version": 3
   },
   "file_extension": ".py",
   "mimetype": "text/x-python",
   "name": "python",
   "nbconvert_exporter": "python",
   "pygments_lexer": "ipython3",
   "version": "3.7.3"
  },
  "name": "exam-after.ipynb"
 },
 "nbformat": 4,
 "nbformat_minor": 2
}
